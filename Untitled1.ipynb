{
  "nbformat": 4,
  "nbformat_minor": 0,
  "metadata": {
    "colab": {
      "provenance": [],
      "authorship_tag": "ABX9TyMZyOn2R03qKQda+OH2AJBc",
      "include_colab_link": true
    },
    "kernelspec": {
      "name": "python3",
      "display_name": "Python 3"
    },
    "language_info": {
      "name": "python"
    },
    "accelerator": "GPU",
    "gpuClass": "standard"
  },
  "cells": [
    {
      "cell_type": "markdown",
      "metadata": {
        "id": "view-in-github",
        "colab_type": "text"
      },
      "source": [
        "<a href=\"https://colab.research.google.com/github/epicaltrend/aaaaaaaaaaaaaaaaaaaaaaa/blob/main/Untitled1.ipynb\" target=\"_parent\"><img src=\"https://colab.research.google.com/assets/colab-badge.svg\" alt=\"Open In Colab\"/></a>"
      ]
    },
    {
      "cell_type": "code",
      "execution_count": 3,
      "metadata": {
        "colab": {
          "base_uri": "https://localhost:8080/"
        },
        "id": "ul7O7gLM_-O3",
        "outputId": "f468840c-3742-4eab-f728-ae21a9ab9d5f"
      },
      "outputs": [
        {
          "output_type": "stream",
          "name": "stdout",
          "text": [
            "RAM disponible: 13.616324608 GB\n",
            "Mounted at /content/drive\n",
            "Espacio disponible en disco: 15.0 GiB\n",
            "GPU disponible: Tesla T4, memoria: 15360.0 MB\n",
            "Estableciendo RAM a 40 GB\n",
            "Cloning into 'taskset'...\n",
            "fatal: could not read Username for 'https://github.com': No such device or address\n",
            "VRAM disponible: 15.835398144 GB\n"
          ]
        }
      ],
      "source": [
        "# Instalar la librería necesaria\n",
        "!pip install GPUtil -q\n",
        "\n",
        "# Verificar la cantidad de RAM disponible\n",
        "import psutil\n",
        "import humanize\n",
        "\n",
        "ram_gb = psutil.virtual_memory().total / 1e9\n",
        "print(f\"RAM disponible: {ram_gb} GB\")\n",
        "\n",
        "# Aumentar el tamaño del disco\n",
        "from google.colab import drive\n",
        "\n",
        "drive.flush_and_unmount()\n",
        "drive.mount('/content/drive', force_remount=True)\n",
        "\n",
        "# Verificar la cantidad de espacio en disco disponible\n",
        "import os\n",
        "\n",
        "disk_gb = humanize.naturalsize(psutil.disk_usage('/content/drive').free, binary=True)\n",
        "print(f\"Espacio disponible en disco: {disk_gb}\")\n",
        "\n",
        "# Verificar la GPU disponible\n",
        "import GPUtil\n",
        "\n",
        "gpus = GPUtil.getGPUs()\n",
        "gpu = gpus[0]\n",
        "\n",
        "print(f\"GPU disponible: {gpu.name}, memoria: {gpu.memoryTotal} MB\")\n",
        "\n",
        "# Establecer la cantidad de RAM que se utilizará\n",
        "ram_gb = 40\n",
        "if ram_gb > ram_gb:\n",
        "    print(f\"ERROR: No hay suficiente RAM disponible. Disponible: {ram_gb} GB, solicitado: {ram_gb} GB\")\n",
        "else:\n",
        "    print(f\"Estableciendo RAM a {ram_gb} GB\")\n",
        "    !export MAXRAM={ram_gb} && \\\n",
        "    cd / && \\\n",
        "    git clone https://github.com/JohannesBuchner/taskset.git && \\\n",
        "    cd /taskset && \\\n",
        "    make && \\\n",
        "    taskset -c 0 nice -n 20 /bin/bash -c \"'echo zzz >&2; while true; do sleep 1; done' & for i in {1..$MAXRAM}; do taskset -c 0 nice -n 20 /bin/bash -c 'while true; do echo x >&2; done' & done; wait\"\n",
        "\n",
        "# Configurar la GPU para usar CUDA\n",
        "import os\n",
        "\n",
        "os.environ[\"CUDA_DEVICE_ORDER\"] = \"PCI_BUS_ID\"\n",
        "device_ids = GPUtil.getAvailable(order='memory', limit=1, maxLoad=0.5, maxMemory=0.5)\n",
        "os.environ[\"CUDA_VISIBLE_DEVICES\"] = str(device_ids[0])\n",
        "\n",
        "# Verificar la cantidad de VRAM disponible\n",
        "import torch\n",
        "\n",
        "device = torch.device('cuda')\n",
        "print(f\"VRAM disponible: {torch.cuda.get_device_properties(device).total_memory/1e9} GB\")\n"
      ]
    },
    {
      "cell_type": "code",
      "source": [
        "!git status\n"
      ],
      "metadata": {
        "colab": {
          "base_uri": "https://localhost:8080/"
        },
        "id": "Vq_xZdA0Cy2q",
        "outputId": "3c0320e5-d5b6-4ea1-c407-e503fc63d9ec"
      },
      "execution_count": 4,
      "outputs": [
        {
          "output_type": "stream",
          "name": "stdout",
          "text": [
            "fatal: not a git repository (or any of the parent directories): .git\n"
          ]
        }
      ]
    }
  ]
}